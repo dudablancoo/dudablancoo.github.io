{
  "cells": [
    {
      "cell_type": "markdown",
      "metadata": {
        "id": "view-in-github",
        "colab_type": "text"
      },
      "source": [
        "<a href=\"https://colab.research.google.com/github/dudablancoo/dudablancoo.github.io/blob/main/jogosDigitaisEstudo.ipynb\" target=\"_parent\"><img src=\"https://colab.research.google.com/assets/colab-badge.svg\" alt=\"Open In Colab\"/></a>"
      ]
    },
    {
      "cell_type": "markdown",
      "metadata": {
        "id": "tq3vlamCVbEX"
      },
      "source": [
        "# Conexão\n",
        "\n",
        "Conectando o meu notebook colab ao meu drive para acessar o arquivo steam_games.csv"
      ]
    },
    {
      "cell_type": "code",
      "execution_count": 87,
      "metadata": {
        "colab": {
          "base_uri": "https://localhost:8080/"
        },
        "id": "e4FOwc3PVJZi",
        "outputId": "507418ed-9d70-479c-fce4-67f907dcd04a"
      },
      "outputs": [
        {
          "output_type": "stream",
          "name": "stdout",
          "text": [
            "Drive already mounted at /content/drive; to attempt to forcibly remount, call drive.mount(\"/content/drive\", force_remount=True).\n"
          ]
        }
      ],
      "source": [
        "from google.colab import drive\n",
        "drive.mount('/content/drive')"
      ]
    },
    {
      "cell_type": "markdown",
      "source": [
        "#Importanto CSV e lendo o arquivo\n",
        "\n",
        "Optei por ler as primeiras 5 linhas do arquivo para identificar os dados"
      ],
      "metadata": {
        "id": "RM7rVh6jXPH4"
      }
    },
    {
      "cell_type": "code",
      "execution_count": 96,
      "metadata": {
        "colab": {
          "base_uri": "https://localhost:8080/"
        },
        "id": "HyGmw8RcVlwj",
        "outputId": "96a4dcc7-e1bb-4c3c-c647-1f06d3d94d28"
      },
      "outputs": [
        {
          "output_type": "stream",
          "name": "stdout",
          "text": [
            "['AppID', 'Name', 'Release date', 'Estimated owners', 'Peak CCU', 'Required age', 'Price', 'DLC count', 'About the game', 'Supported languages', 'Full audio languages', 'Reviews', 'Header image', 'Website', 'Support url', 'Support email', 'Windows', 'Mac', 'Linux', 'Metacritic score', 'Metacritic url', 'User score', 'Positive', 'Negative', 'Score rank', 'Achievements', 'Recommendations', 'Notes', 'Average playtime forever', 'Average playtime two weeks', 'Median playtime forever', 'Median playtime two weeks', 'Developers', 'Publishers', 'Categories', 'Genres', 'Tags', 'Screenshots', 'Movies']\n",
            "['20200', 'Galactic Bowling', 'Oct 21, 2008', '0 - 20000', '0', '0', '19.99', '0', 'Galactic Bowling is an exaggerated and stylized bowling game with an intergalactic twist. Players will engage in fast-paced single and multi-player competition while being submerged in a unique new universe filled with over-the-top humor, wild characters, unique levels, and addictive game play. The title is aimed at players of all ages and skill sets. Through accessible and intuitive controls and game-play, Galactic Bowling allows you to jump right into the action. A single-player campaign and online play allow you to work your way up the ranks of the Galactic Bowling League! Whether you have hours to play or only a few minutes, Galactic Bowling is a fast paced and entertaining experience that will leave you wanting more! Full Single-player story campaign including 11 Characters and Environments. 2 Single-player play modes including Regular and Battle Modes. Head to Head Online Multiplayer play Modes. Super Powers, Special Balls, and Whammies. Unlockable Characters, Environments, and Minigames. Unlock all 30 Steam Achievements!', \"['English']\", '[]', '', 'https://cdn.akamai.steamstatic.com/steam/apps/20200/header.jpg?t=1640121033', 'http://www.galacticbowling.net', '', '', 'True', 'False', 'False', '0', '', '0', '6', '11', '', '30', '0', '', '0', '0', '0', '0', 'Perpetual FX Creative', 'Perpetual FX Creative', 'Single-player,Multi-player,Steam Achievements,Partial Controller Support', 'Casual,Indie,Sports', 'Indie,Casual,Sports,Bowling', 'https://cdn.akamai.steamstatic.com/steam/apps/20200/0000005994.1920x1080.jpg?t=1640121033,https://cdn.akamai.steamstatic.com/steam/apps/20200/0000005993.1920x1080.jpg?t=1640121033,https://cdn.akamai.steamstatic.com/steam/apps/20200/0000005992.1920x1080.jpg?t=1640121033,https://cdn.akamai.steamstatic.com/steam/apps/20200/0000006011.1920x1080.jpg?t=1640121033,https://cdn.akamai.steamstatic.com/steam/apps/20200/0000005685.1920x1080.jpg?t=1640121033,https://cdn.akamai.steamstatic.com/steam/apps/20200/0000005686.1920x1080.jpg?t=1640121033,https://cdn.akamai.steamstatic.com/steam/apps/20200/0000005995.1920x1080.jpg?t=1640121033,https://cdn.akamai.steamstatic.com/steam/apps/20200/0000005688.1920x1080.jpg?t=1640121033,https://cdn.akamai.steamstatic.com/steam/apps/20200/0000005689.1920x1080.jpg?t=1640121033,https://cdn.akamai.steamstatic.com/steam/apps/20200/0000005690.1920x1080.jpg?t=1640121033', 'http://cdn.akamai.steamstatic.com/steam/apps/256863704/movie_max.mp4?t=1638854607']\n",
            "['655370', 'Train Bandit', 'Oct 12, 2017', '0 - 20000', '0', '0', '0.99', '0', \"THE LAW!! Looks to be a showdown atop a train. This will be your last fight. Good luck, Train Bandit. WHAT IS THIS GAME? Train Bandit is a simple score attack game. The Law will attack you from both sides. Your weapon is your keyboard. You'll use those keys to kick the living shit out of the law. React quickly by attacking the correct direction. React...or you're dead. THE FEATURES Unlock new bandits Earn Achievements Become Steam's Most Wanted ? Battle elite officers Kick the law's ass\", \"['English', 'French', 'Italian', 'German', 'Spanish - Spain', 'Japanese', 'Portuguese - Brazil', 'Russian', 'Simplified Chinese', 'Traditional Chinese']\", '[]', '', 'https://cdn.akamai.steamstatic.com/steam/apps/655370/header.jpg?t=1617500526', 'http://trainbandit.com', '', 'support@rustymoyher.com', 'True', 'True', 'False', '0', '', '0', '53', '5', '', '12', '0', '', '0', '0', '0', '0', 'Rusty Moyher', 'Wild Rooster', 'Single-player,Steam Achievements,Full controller support,Steam Leaderboards,Remote Play on Phone,Remote Play on Tablet,Remote Play on TV', 'Action,Indie', 'Indie,Action,Pixel Graphics,2D,Retro,Arcade,Score Attack,Minimalist,Comedy,Singleplayer,Fast-Paced,Casual,Funny,Parody,Difficult,Gore,Violent,Western,Controller,Blood', 'https://cdn.akamai.steamstatic.com/steam/apps/655370/ss_16785eac54b29db688870e832f6997c89cd7804b.1920x1080.jpg?t=1617500526,https://cdn.akamai.steamstatic.com/steam/apps/655370/ss_599ad201ec3bb869449aaab4d0b103e220645762.1920x1080.jpg?t=1617500526,https://cdn.akamai.steamstatic.com/steam/apps/655370/ss_a26cfed1bc3e9ca4225fdc9d5c10681cfeb4f106.1920x1080.jpg?t=1617500526,https://cdn.akamai.steamstatic.com/steam/apps/655370/ss_9b815c0ec4996783088d82d22105caa1c044acad.1920x1080.jpg?t=1617500526,https://cdn.akamai.steamstatic.com/steam/apps/655370/ss_b5aada1bd265ff4b34116794fb937ad62e2882bb.1920x1080.jpg?t=1617500526', 'http://cdn.akamai.steamstatic.com/steam/apps/256691108/movie_max.mp4?t=1506089586']\n",
            "['1732930', 'Jolt Project', 'Nov 17, 2021', '0 - 20000', '0', '0', '4.99', '0', \"Jolt Project: The army now has a new robotics project, jolt. It's up to you to control it and ensure the success of the missions! There are 9 stages of taking the breath away with the right difficulty and good gameplay. Plus an insane way of survival! Fire missiles at cars, tanks, helicopters and turrets! The fun is guaranteed! Use your mouse to aim and shoot and take out the enemies! In this game you will have to be aware of the various enemies who will do everything to destroy your charges and prevent the success of your mission! Cartoon-style graphics are optimized and fun and generate an excellent gaming environment!\", \"['English', 'Portuguese - Brazil']\", '[]', '', 'https://cdn.akamai.steamstatic.com/steam/apps/1732930/header.jpg?t=1637149386', '', '', 'ramoncampiaof31@gmail.com', 'True', 'False', 'False', '0', '', '0', '0', '0', '', '0', '0', '', '0', '0', '0', '0', 'Campião Games', 'Campião Games', 'Single-player', 'Action,Adventure,Indie,Strategy', '', 'https://cdn.akamai.steamstatic.com/steam/apps/1732930/ss_09d67dec0607be7c4ead80289763033a47c86d89.1920x1080.jpg?t=1637149386,https://cdn.akamai.steamstatic.com/steam/apps/1732930/ss_119713aa971021a5fe24ee241c4be9329d1a37ab.1920x1080.jpg?t=1637149386,https://cdn.akamai.steamstatic.com/steam/apps/1732930/ss_04221851fa82047cee95243edf20e413a35ff410.1920x1080.jpg?t=1637149386,https://cdn.akamai.steamstatic.com/steam/apps/1732930/ss_fb210f530ebe006066bfb5dff35d3c68f858f60e.1920x1080.jpg?t=1637149386,https://cdn.akamai.steamstatic.com/steam/apps/1732930/ss_f43db212224f5b33a0ef530a75c3f852d35e9342.1920x1080.jpg?t=1637149386,https://cdn.akamai.steamstatic.com/steam/apps/1732930/ss_eeb31f8499720fc1b20342f74f0040ca2f190881.1920x1080.jpg?t=1637149386', 'http://cdn.akamai.steamstatic.com/steam/apps/256847488/movie_max.mp4?t=1635980739,http://cdn.akamai.steamstatic.com/steam/apps/256847487/movie_max.mp4?t=1635980747']\n",
            "['1355720', 'Henosis™', 'Jul 23, 2020', '0 - 20000', '0', '0', '5.99', '0', 'HENOSIS™ is a mysterious 2D Platform Puzzler where players are propelled into weird and visceral worlds as they take control of a small, droplet of water while overcoming obstacles and enemies throughout each level. The Player must venture through each world as it collects precious water tokens in order open the exit portal and restore vitality to its drought-ridden home world. Features: Traverse your way through 27 hand-crafted levels Unique player mechanics Battle menacing bosses across 3 distinct worlds* Original artwork &amp; animation Full controller support Localization support * Hidden world included!', \"['English', 'French', 'Italian', 'German', 'Spanish - Spain', 'Japanese', 'Korean', 'Portuguese', 'Russian', 'Simplified Chinese', 'Traditional Chinese']\", '[]', '', 'https://cdn.akamai.steamstatic.com/steam/apps/1355720/header.jpg?t=1639875115', 'https://henosisgame.com/', 'https://henosisgame.com/', 'info@henosisgame.com', 'True', 'True', 'True', '0', '', '0', '3', '0', '', '0', '0', '', '0', '0', '0', '0', 'Odd Critter Games', 'Odd Critter Games', 'Single-player,Full controller support', 'Adventure,Casual,Indie', '2D Platformer,Atmospheric,Surreal,Mystery,Puzzle,Survival,Adventure,Linear,Singleplayer,Experimental,Platformer,Precision Platformer,Puzzle-Platformer,2D,Stylized,Physics,Time Manipulation,Casual,Indie', 'https://cdn.akamai.steamstatic.com/steam/apps/1355720/ss_20bbae2d9d5aaa2f043f372a551faabc0c47b0b4.1920x1080.jpg?t=1639875115,https://cdn.akamai.steamstatic.com/steam/apps/1355720/ss_d471414fcb5b734a198533f7d068e1931b778546.1920x1080.jpg?t=1639875115,https://cdn.akamai.steamstatic.com/steam/apps/1355720/ss_64739e5a9a48355814505d85203f9fd6521564ca.1920x1080.jpg?t=1639875115,https://cdn.akamai.steamstatic.com/steam/apps/1355720/ss_5ecf89d6ac345779da09f7d42b232c371d500e90.1920x1080.jpg?t=1639875115,https://cdn.akamai.steamstatic.com/steam/apps/1355720/ss_ed65011a9294f333d9ad1dd3378251b0410e3f51.1920x1080.jpg?t=1639875115,https://cdn.akamai.steamstatic.com/steam/apps/1355720/ss_d2ae58e4a8a88446ab4bb3a1eea5f3ab412efd0e.1920x1080.jpg?t=1639875115,https://cdn.akamai.steamstatic.com/steam/apps/1355720/ss_9bfed05ab4ff0ab6e55318af8ebc0ecb10bfb7da.1920x1080.jpg?t=1639875115', 'http://cdn.akamai.steamstatic.com/steam/apps/256819153/movie_max.mp4?t=1611314333']\n",
            "['1139950', 'Two Weeks in Painland', 'Feb 3, 2020', '0 - 20000', '0', '0', '0.0', '0', 'ABOUT THE GAME Play as a hacker who has arranged a deal with a gangster. That’s how the protagonist, Jack, is assigned a mission that should be accomplished in a specific timeframe, which he will find out soon enough. THE GAME’S FEATURES Spy on 4 senior managers within an organization to find out about their personalities. Manage the recruitment process in the organization to improve the work climate. Hack the candidates who want to get into the organization to make your job easier. Try to avoid having your physical health impacted negatively in the process. All of this while you enjoy an interesting story full of humor and action that evolves along with the game.', \"['English', 'Spanish - Spain']\", '[]', '', 'https://cdn.akamai.steamstatic.com/steam/apps/1139950/header.jpg?t=1595003825', 'https://www.unusual-games.com/home/', 'https://www.unusual-games.com/contact/', 'welistentoyou@unusual-games.com', 'True', 'True', 'False', '0', '', '0', '50', '8', '', '17', '0', 'This Game may contain content not appropriate for all ages, or may not be appropriate for viewing at work: violence, general Mature Content.', '0', '0', '0', '0', 'Unusual Games', 'Unusual Games', 'Single-player,Steam Achievements', 'Adventure,Indie', 'Indie,Adventure,Nudity,Violent,Sexual Content,Story Rich', 'https://cdn.akamai.steamstatic.com/steam/apps/1139950/ss_cb94604e43f910a3b994f120412bdc5a576222ad.1920x1080.jpg?t=1595003825,https://cdn.akamai.steamstatic.com/steam/apps/1139950/ss_8602d875f27d7966e718f917725ac990f70179d7.1920x1080.jpg?t=1595003825,https://cdn.akamai.steamstatic.com/steam/apps/1139950/ss_750a7f351da65eb0b5ef9724e5af211b2f6a0f5d.1920x1080.jpg?t=1595003825,https://cdn.akamai.steamstatic.com/steam/apps/1139950/ss_2660287cf061716e420e2752d54f7affcac87fce.1920x1080.jpg?t=1595003825,https://cdn.akamai.steamstatic.com/steam/apps/1139950/ss_3ba71b7d24b127ebe71de98c65774428bd5c6f2c.1920x1080.jpg?t=1595003825,https://cdn.akamai.steamstatic.com/steam/apps/1139950/ss_f582e3a210bfc9bff61063a5b145df07b0c030e0.1920x1080.jpg?t=1595003825,https://cdn.akamai.steamstatic.com/steam/apps/1139950/ss_8459843b2a4165863ff49b9cb7d9482069cc3911.1920x1080.jpg?t=1595003825,https://cdn.akamai.steamstatic.com/steam/apps/1139950/ss_4c6feb0ea8e5d1828f2586a67db9876743c06913.1920x1080.jpg?t=1595003825,https://cdn.akamai.steamstatic.com/steam/apps/1139950/ss_938e7ed4e1aa6e98fec94d160e307f4550003724.1920x1080.jpg?t=1595003825,https://cdn.akamai.steamstatic.com/steam/apps/1139950/ss_027259a3ce6d57477cfbd0fc8aa4a5b6595e9b88.1920x1080.jpg?t=1595003825,https://cdn.akamai.steamstatic.com/steam/apps/1139950/ss_703a4e9ddef98abe19a7b2915a9be6014fa3b5c4.1920x1080.jpg?t=1595003825,https://cdn.akamai.steamstatic.com/steam/apps/1139950/ss_90cb78e6f3192daee93fd3e0f11f0170e90660bf.1920x1080.jpg?t=1595003825,https://cdn.akamai.steamstatic.com/steam/apps/1139950/ss_1490715a41680ec76aab438d519a92b504e301ca.1920x1080.jpg?t=1595003825,https://cdn.akamai.steamstatic.com/steam/apps/1139950/ss_d2103c1ca519acae9cf6ad6a90f3b5d033303a6f.1920x1080.jpg?t=1595003825,https://cdn.akamai.steamstatic.com/steam/apps/1139950/ss_d5f907cb7691ffadb76e34023f2ff9944b75177e.1920x1080.jpg?t=1595003825,https://cdn.akamai.steamstatic.com/steam/apps/1139950/ss_dd48fad56a50c7897d10bc2023ebe0fff3c1c188.1920x1080.jpg?t=1595003825,https://cdn.akamai.steamstatic.com/steam/apps/1139950/ss_016f563890ded89c430418dbbf97c64d30690a47.1920x1080.jpg?t=1595003825,https://cdn.akamai.steamstatic.com/steam/apps/1139950/ss_29c4074806a5d473581bac47e472c86cb08bd0cd.1920x1080.jpg?t=1595003825,https://cdn.akamai.steamstatic.com/steam/apps/1139950/ss_c989d7ddeba60b79defbe979d0107d1d8e3a28cd.1920x1080.jpg?t=1595003825,https://cdn.akamai.steamstatic.com/steam/apps/1139950/ss_58534757acea102b2d0bfef8d69e737731c73fae.1920x1080.jpg?t=1595003825,https://cdn.akamai.steamstatic.com/steam/apps/1139950/ss_83ffde6b8dfe87c8542703f1977fe101d0d4fdf1.1920x1080.jpg?t=1595003825,https://cdn.akamai.steamstatic.com/steam/apps/1139950/ss_fc23c9dcb75d2560a423c80576cc31d89203c8b8.1920x1080.jpg?t=1595003825,https://cdn.akamai.steamstatic.com/steam/apps/1139950/ss_c88d7474afbf3434fa5d747a4f1ae3fd18ed7fa4.1920x1080.jpg?t=1595003825,https://cdn.akamai.steamstatic.com/steam/apps/1139950/ss_03f5a65292318739dcfca2751250c3030b31ee50.1920x1080.jpg?t=1595003825', 'http://cdn.akamai.steamstatic.com/steam/apps/256764430/movie_max.mp4?t=1580660973']\n"
          ]
        }
      ],
      "source": [
        "import csv\n",
        "\n",
        "arquivo_csv = '/content/drive/MyDrive/analiseExploratoriaJogos/steam_games.csv'\n",
        "\n",
        "with open(arquivo_csv, newline='') as csvfile:\n",
        "    reader = csv.reader(csvfile)\n",
        "\n",
        "    for i, row in enumerate(reader):\n",
        "        print(row)\n",
        "        if i == 5:\n",
        "            break"
      ]
    },
    {
      "cell_type": "markdown",
      "source": [
        "#Respondendo as perguntas\n",
        "\n",
        "\n",
        "1.  Qual o percentual de jogos gratuitos e pagos na plataforma?\n",
        "\n",
        "2.   Qual o ano com o maior número de novos jogos? Em caso de empate, retorne uma lista com os anos empatados.\n",
        "\n",
        "3. Qual a média de lançamentos de jogos por mês considerando todos os anos?\n",
        "\n",
        "\n"
      ],
      "metadata": {
        "id": "dRneMmysirKs"
      }
    },
    {
      "cell_type": "code",
      "source": [
        "from collections import defaultdict\n",
        "from datetime import datetime\n",
        "\n",
        "class ContadorCSV:\n",
        "    \"\"\"Classe para contar linhas e calcular percentuais de\n",
        "    jogos gratuitos e pagos.\"\"\"\n",
        "\n",
        "    def __init__(self, arquivo_csv):\n",
        "        self.arquivo_csv = arquivo_csv\n",
        "\n",
        "    def contar_linhas(self):\n",
        "      \"\"\"Conta o total de linhas no arquivo CSV. Uitilizei por\n",
        "      curiosidade para ver o programa rodava do jeito que esperava\"\"\"\n",
        "\n",
        "      with open(self.arquivo_csv, newline='') as csvfile:\n",
        "            leitor = csv.reader(csvfile)\n",
        "            return sum(1 for _ in leitor)\n",
        "\n",
        "    def percentual_jogos_gratuitos_pagos(self):\n",
        "        \"\"\"Calcula o percentual de jogos gratuitos e pagos.\"\"\"\n",
        "        total_jogos = jogos_gratuitos = jogos_pagos = 0\n",
        "\n",
        "        with open(self.arquivo_csv, newline='') as csvfile:\n",
        "            leitor = csv.reader(csvfile)\n",
        "            next(leitor)\n",
        "            for linha in leitor:\n",
        "                total_jogos += 1\n",
        "                try:\n",
        "                    preco = float(linha[7])\n",
        "                    if preco == 0.0:\n",
        "                        jogos_gratuitos += 1\n",
        "                    elif preco > 0.0:\n",
        "                        jogos_pagos += 1\n",
        "                except (ValueError, IndexError):\n",
        "                    continue\n",
        "\n",
        "        if total_jogos == 0:\n",
        "            return (0, 0)\n",
        "        return (jogos_gratuitos / total_jogos * 100, jogos_pagos / total_jogos * 100)\n",
        "\n",
        "\n",
        "class ContadorJogosPorAno:\n",
        "    \"\"\"Classe para contar jogos lançados por ano.\"\"\"\n",
        "\n",
        "    def __init__(self, arquivo_csv):\n",
        "        self.arquivo_csv = arquivo_csv\n",
        "\n",
        "    def contar_jogos_por_ano(self):\n",
        "        \"\"\"Conta jogos por ano a partir da data.\"\"\"\n",
        "        jogos_por_ano = defaultdict(int)\n",
        "\n",
        "        with open(self.arquivo_csv, newline='') as csvfile:\n",
        "            leitor = csv.reader(csvfile)\n",
        "            next(leitor)\n",
        "            for linha in leitor:\n",
        "                try:\n",
        "                    data = datetime.strptime(linha[2], '%b %d, %Y')\n",
        "                    jogos_por_ano[data.year] += 1\n",
        "                except (ValueError, IndexError):\n",
        "                    continue\n",
        "\n",
        "        return jogos_por_ano\n",
        "\n",
        "    def ano_com_maior_numero_de_jogos(self):\n",
        "        \"\"\"Encontra o ano com mais jogos lançados.\"\"\"\n",
        "        jogos_por_ano = self.contar_jogos_por_ano()\n",
        "        if not jogos_por_ano:\n",
        "            return None\n",
        "\n",
        "        maior_numero = max(jogos_por_ano.values())\n",
        "        anos = [ano for ano, count in jogos_por_ano.items() if count == maior_numero]\n",
        "\n",
        "        return anos, maior_numero\n",
        "\n",
        "\n",
        "class ContadorJogosPorMes:\n",
        "    \"\"\"Classe para contar jogos lançados por mês.\"\"\"\n",
        "\n",
        "    def __init__(self, arquivo_csv):\n",
        "        self.arquivo_csv = arquivo_csv\n",
        "\n",
        "    def contar_jogos_por_mes(self):\n",
        "        \"\"\"Conta jogos lançados por mês.\"\"\"\n",
        "        jogos_por_mes = defaultdict(int)\n",
        "\n",
        "        with open(self.arquivo_csv, newline='') as csvfile:\n",
        "            leitor = csv.reader(csvfile)\n",
        "            next(leitor)\n",
        "            for linha in leitor:\n",
        "                try:\n",
        "                    data = datetime.strptime(linha[2], '%b %d, %Y')\n",
        "                    jogos_por_mes[data.strftime('%Y-%m')] += 1\n",
        "                except (ValueError, IndexError):\n",
        "                    continue\n",
        "\n",
        "        return jogos_por_mes\n",
        "\n",
        "    def media_lancamentos_por_mes(self):\n",
        "        \"\"\"Calcula a média de lançamentos de jogos por mês.\"\"\"\n",
        "        jogos_por_mes = self.contar_jogos_por_mes()\n",
        "        if not jogos_por_mes:\n",
        "            return 0\n",
        "\n",
        "        return sum(jogos_por_mes.values()) / len(jogos_por_mes)\n",
        "\n",
        "\n",
        "if __name__ == \"__main__\":\n",
        "    arquivo = arquivo_csv\n",
        "\n",
        "\n",
        "    contador_csv = ContadorCSV(arquivo)\n",
        "    numero_de_linhas = contador_csv.contar_linhas()\n",
        "    percentuais = contador_csv.percentual_jogos_gratuitos_pagos()\n",
        "\n",
        "    print(f'O arquivo contém {numero_de_linhas} linhas.')\n",
        "    print(f'Percentual de jogos gratuitos: {percentuais[0]:.2f}%')\n",
        "    print(f'Percentual de jogos pagos: {percentuais[1]:.2f}%')\n",
        "\n",
        "    contador_ano = ContadorJogosPorAno(arquivo)\n",
        "    anos_empate, numero_de_jogos = contador_ano.ano_com_maior_numero_de_jogos()\n",
        "    if anos_empate:\n",
        "        print(f'O(s) ano(s) com o maior número de novos jogos: {\", \".join(map(str, anos_empate))} ({numero_de_jogos} jogos).')\n",
        "    else:\n",
        "        print('Nenhum jogo encontrado.')\n",
        "\n",
        "    contador_mes = ContadorJogosPorMes(arquivo)\n",
        "    media_lancamentos = contador_mes.media_lancamentos_por_mes()\n",
        "    print(f'A média de lançamentos de jogos por mês é: {media_lancamentos:.0f} jogos.')\n"
      ],
      "metadata": {
        "colab": {
          "base_uri": "https://localhost:8080/"
        },
        "id": "69_rjN1hheoT",
        "outputId": "b0499c27-0fbd-493d-dc99-35ec213fcf6a"
      },
      "execution_count": 101,
      "outputs": [
        {
          "output_type": "stream",
          "name": "stdout",
          "text": [
            "O arquivo contém 72935 linhas.\n",
            "Percentual de jogos gratuitos: 84.99%\n",
            "Percentual de jogos pagos: 15.01%\n",
            "O(s) ano(s) com o maior número de novos jogos: 2022 (13951 jogos).\n",
            "A média de lançamentos de jogos por mês é: 312 jogos.\n"
          ]
        }
      ]
    },
    {
      "cell_type": "markdown",
      "source": [
        "#Testes\n",
        "\n",
        "Realizando testes com amostras.\n"
      ],
      "metadata": {
        "id": "0rkhHtRykL4D"
      }
    },
    {
      "cell_type": "code",
      "source": [
        "import csv\n",
        "import random\n",
        "\n",
        "arquivo_csv = '/content/drive/MyDrive/analiseExploratoriaJogos/steam_games.csv'\n",
        "\n",
        "def criar_amostra(arquivo_csv, arquivo_amostra, tamanho_amostra=20):\n",
        "    with open(arquivo_csv, newline='') as csvfile:\n",
        "        leitor = list(csv.reader(csvfile))\n",
        "        header = leitor[0]\n",
        "        jogos = leitor[1:]\n",
        "\n",
        "\n",
        "        jogos_selecionados = random.sample(jogos[20:], tamanho_amostra)\n",
        "\n",
        "    with open(arquivo_amostra, 'w', newline='') as csvfile:\n",
        "        escritor = csv.writer(csvfile)\n",
        "        escritor.writerow(header)\n",
        "        escritor.writerows(jogos_selecionados)\n",
        "\n",
        "\n",
        "class ContadorCSV:\n",
        "    \"\"\"Classe para contar linhas e calcular percentuais de jogos gratuitos e pagos.\"\"\"\n",
        "    def __init__(self, arquivo_csv):\n",
        "        self.arquivo_csv = arquivo_csv\n",
        "\n",
        "    def contar_linhas(self):\n",
        "        \"\"\"Conta o total de linhas no arquivo CSV.\"\"\"\n",
        "        with open(self.arquivo_csv, newline='') as csvfile:\n",
        "            leitor = csv.reader(csvfile)\n",
        "            return sum(1 for _ in leitor)\n",
        "\n",
        "    def percentual_jogos_gratuitos_pagos(self):\n",
        "        \"\"\"Calcula o percentual de jogos gratuitos e pagos.\"\"\"\n",
        "        total_jogos = jogos_gratuitos = jogos_pagos = 0\n",
        "\n",
        "        with open(self.arquivo_csv, newline='') as csvfile:\n",
        "            leitor = csv.reader(csvfile)\n",
        "            next(leitor)\n",
        "            for linha in leitor:\n",
        "                total_jogos += 1\n",
        "                try:\n",
        "                    preco = float(linha[7])\n",
        "                    if preco == 0:\n",
        "                        jogos_gratuitos += 1\n",
        "                    elif preco > 0:\n",
        "                        jogos_pagos += 1\n",
        "                except (ValueError, IndexError):\n",
        "                    continue\n",
        "\n",
        "        if total_jogos == 0:\n",
        "            return (0, 0)\n",
        "        return (jogos_gratuitos / total_jogos * 100, jogos_pagos / total_jogos * 100)\n",
        "\n",
        "    def testar_percentual_jogos_gratuitos_pagos(self, jogos_gratuitos_esperado, jogos_pagos_esperado):\n",
        "        percentuais = self.percentual_jogos_gratuitos_pagos()\n",
        "        assert round(percentuais[0], 2) == round(jogos_gratuitos_esperado, 2), f\"Esperado: {jogos_gratuitos_esperado}, Obtido: {percentuais[0]}\"\n",
        "        assert round(percentuais[1], 2) == round(jogos_pagos_esperado, 2), f\"Esperado: {jogos_pagos_esperado}, Obtido: {percentuais[1]}\"\n",
        "\n",
        "\n",
        "if __name__ == \"__main__\":\n",
        "    arquivo_amostra = 'amostra_jogos.csv'\n",
        "\n",
        "\n",
        "    criar_amostra(arquivo_csv, arquivo_amostra)\n",
        "\n",
        "\n",
        "    contador_csv = ContadorCSV(arquivo_amostra)\n",
        "\n",
        "\n",
        "    numero_de_linhas = contador_csv.contar_linhas()\n",
        "    percentuais = contador_csv.percentual_jogos_gratuitos_pagos()\n",
        "\n",
        "    print(f'O arquivo contém {numero_de_linhas} linhas.')\n",
        "    print(f'Percentual de jogos gratuitos: {percentuais[0]:.2f}%')\n",
        "    print(f'Percentual de jogos pagos: {percentuais[1]:.2f}%')\n",
        "\n",
        "\n",
        "    jogos_gratuitos_esperado = 80.0\n",
        "    jogos_pagos_esperado = 20.0\n",
        "    contador_csv.testar_percentual_jogos_gratuitos_pagos(jogos_gratuitos_esperado, jogos_pagos_esperado)\n",
        "\n"
      ],
      "metadata": {
        "colab": {
          "base_uri": "https://localhost:8080/",
          "height": 367
        },
        "id": "qheKZcYlkS5y",
        "outputId": "d8bb4373-55cd-4956-c0d6-00dd1babe712"
      },
      "execution_count": 102,
      "outputs": [
        {
          "output_type": "stream",
          "name": "stdout",
          "text": [
            "O arquivo contém 21 linhas.\n",
            "Percentual de jogos gratuitos: 75.00%\n",
            "Percentual de jogos pagos: 25.00%\n"
          ]
        },
        {
          "output_type": "error",
          "ename": "AssertionError",
          "evalue": "Esperado: 80.0, Obtido: 75.0",
          "traceback": [
            "\u001b[0;31m---------------------------------------------------------------------------\u001b[0m",
            "\u001b[0;31mAssertionError\u001b[0m                            Traceback (most recent call last)",
            "\u001b[0;32m<ipython-input-102-55dace4abc71>\u001b[0m in \u001b[0;36m<cell line: 60>\u001b[0;34m()\u001b[0m\n\u001b[1;32m     78\u001b[0m     \u001b[0mjogos_gratuitos_esperado\u001b[0m \u001b[0;34m=\u001b[0m \u001b[0;36m80.0\u001b[0m\u001b[0;34m\u001b[0m\u001b[0;34m\u001b[0m\u001b[0m\n\u001b[1;32m     79\u001b[0m     \u001b[0mjogos_pagos_esperado\u001b[0m \u001b[0;34m=\u001b[0m \u001b[0;36m20.0\u001b[0m\u001b[0;34m\u001b[0m\u001b[0;34m\u001b[0m\u001b[0m\n\u001b[0;32m---> 80\u001b[0;31m     \u001b[0mcontador_csv\u001b[0m\u001b[0;34m.\u001b[0m\u001b[0mtestar_percentual_jogos_gratuitos_pagos\u001b[0m\u001b[0;34m(\u001b[0m\u001b[0mjogos_gratuitos_esperado\u001b[0m\u001b[0;34m,\u001b[0m \u001b[0mjogos_pagos_esperado\u001b[0m\u001b[0;34m)\u001b[0m\u001b[0;34m\u001b[0m\u001b[0;34m\u001b[0m\u001b[0m\n\u001b[0m\u001b[1;32m     81\u001b[0m \u001b[0;34m\u001b[0m\u001b[0m\n",
            "\u001b[0;32m<ipython-input-102-55dace4abc71>\u001b[0m in \u001b[0;36mtestar_percentual_jogos_gratuitos_pagos\u001b[0;34m(self, jogos_gratuitos_esperado, jogos_pagos_esperado)\u001b[0m\n\u001b[1;32m     54\u001b[0m     \u001b[0;32mdef\u001b[0m \u001b[0mtestar_percentual_jogos_gratuitos_pagos\u001b[0m\u001b[0;34m(\u001b[0m\u001b[0mself\u001b[0m\u001b[0;34m,\u001b[0m \u001b[0mjogos_gratuitos_esperado\u001b[0m\u001b[0;34m,\u001b[0m \u001b[0mjogos_pagos_esperado\u001b[0m\u001b[0;34m)\u001b[0m\u001b[0;34m:\u001b[0m\u001b[0;34m\u001b[0m\u001b[0;34m\u001b[0m\u001b[0m\n\u001b[1;32m     55\u001b[0m         \u001b[0mpercentuais\u001b[0m \u001b[0;34m=\u001b[0m \u001b[0mself\u001b[0m\u001b[0;34m.\u001b[0m\u001b[0mpercentual_jogos_gratuitos_pagos\u001b[0m\u001b[0;34m(\u001b[0m\u001b[0;34m)\u001b[0m\u001b[0;34m\u001b[0m\u001b[0;34m\u001b[0m\u001b[0m\n\u001b[0;32m---> 56\u001b[0;31m         \u001b[0;32massert\u001b[0m \u001b[0mround\u001b[0m\u001b[0;34m(\u001b[0m\u001b[0mpercentuais\u001b[0m\u001b[0;34m[\u001b[0m\u001b[0;36m0\u001b[0m\u001b[0;34m]\u001b[0m\u001b[0;34m,\u001b[0m \u001b[0;36m2\u001b[0m\u001b[0;34m)\u001b[0m \u001b[0;34m==\u001b[0m \u001b[0mround\u001b[0m\u001b[0;34m(\u001b[0m\u001b[0mjogos_gratuitos_esperado\u001b[0m\u001b[0;34m,\u001b[0m \u001b[0;36m2\u001b[0m\u001b[0;34m)\u001b[0m\u001b[0;34m,\u001b[0m \u001b[0;34mf\"Esperado: {jogos_gratuitos_esperado}, Obtido: {percentuais[0]}\"\u001b[0m\u001b[0;34m\u001b[0m\u001b[0;34m\u001b[0m\u001b[0m\n\u001b[0m\u001b[1;32m     57\u001b[0m         \u001b[0;32massert\u001b[0m \u001b[0mround\u001b[0m\u001b[0;34m(\u001b[0m\u001b[0mpercentuais\u001b[0m\u001b[0;34m[\u001b[0m\u001b[0;36m1\u001b[0m\u001b[0;34m]\u001b[0m\u001b[0;34m,\u001b[0m \u001b[0;36m2\u001b[0m\u001b[0;34m)\u001b[0m \u001b[0;34m==\u001b[0m \u001b[0mround\u001b[0m\u001b[0;34m(\u001b[0m\u001b[0mjogos_pagos_esperado\u001b[0m\u001b[0;34m,\u001b[0m \u001b[0;36m2\u001b[0m\u001b[0;34m)\u001b[0m\u001b[0;34m,\u001b[0m \u001b[0;34mf\"Esperado: {jogos_pagos_esperado}, Obtido: {percentuais[1]}\"\u001b[0m\u001b[0;34m\u001b[0m\u001b[0;34m\u001b[0m\u001b[0m\n\u001b[1;32m     58\u001b[0m \u001b[0;34m\u001b[0m\u001b[0m\n",
            "\u001b[0;31mAssertionError\u001b[0m: Esperado: 80.0, Obtido: 75.0"
          ]
        }
      ]
    }
  ],
  "metadata": {
    "colab": {
      "provenance": [],
      "authorship_tag": "ABX9TyN7FFgE3vJPma8NnuW9bTuj",
      "include_colab_link": true
    },
    "kernelspec": {
      "display_name": "Python 3",
      "name": "python3"
    },
    "language_info": {
      "name": "python"
    }
  },
  "nbformat": 4,
  "nbformat_minor": 0
}